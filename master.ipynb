{
 "cells": [
  {
   "cell_type": "code",
   "execution_count": 5,
   "metadata": {
    "colab": {},
    "colab_type": "code",
    "id": "xPJX-M74ioow",
    "pycharm": {
     "is_executing": false
    }
   },
   "outputs": [],
   "source": [
    "import tensorflow as tf\n",
    "import numpy as np\n",
    "import time\n",
    "import csv\n",
    "import matplotlib.pyplot as plt\n",
    "\n",
    "np.set_printoptions(precision=4, suppress=True)"
   ]
  },
  {
   "cell_type": "code",
   "execution_count": 6,
   "metadata": {
    "colab": {},
    "colab_type": "code",
    "id": "Yh0rjUSMjJAv",
    "pycharm": {
     "is_executing": false
    }
   },
   "outputs": [],
   "source": [
    "seed=0\n",
    "tf.set_random_seed(seed)\n",
    "\n",
    "mnist = tf.keras.datasets.mnist\n",
    "(x_train_data, y_train_cold),(x_test_data,y_test_cold) = mnist.load_data()\n",
    "x_train_data, x_test_data = x_train_data / 255.0, x_test_data / 255.0"
   ]
  },
  {
   "cell_type": "code",
   "execution_count": 7,
   "metadata": {
    "colab": {},
    "colab_type": "code",
    "id": "ESirBBgVkVha",
    "pycharm": {
     "is_executing": false
    }
   },
   "outputs": [],
   "source": [
    "with tf.Session() as sess:\n",
    "    y_train = sess.run(tf.one_hot(y_train_cold,10))\n",
    "    y_test =  sess.run(tf.one_hot(y_test_cold,10))"
   ]
  },
  {
   "cell_type": "code",
   "execution_count": 8,
   "metadata": {
    "colab": {},
    "colab_type": "code",
    "id": "_QdQWRR7vfB_",
    "pycharm": {
     "is_executing": false
    }
   },
   "outputs": [],
   "source": [
    "x_train=[]\n",
    "x_test=[]\n",
    "\n",
    "n_train = len(x_train_data)\n",
    "n_test = len(x_test_data)\n",
    "\n",
    "for i in range(len(x_train_data)):\n",
    "    x_train.append(np.ndarray.flatten(x_train_data[i]))\n",
    "    \n",
    "for i in range(len(x_test_data)):\n",
    "    x_test.append(np.ndarray.flatten(x_test_data[i]))"
   ]
  },
  {
   "cell_type": "code",
   "execution_count": 9,
   "metadata": {
    "colab": {
     "base_uri": "https://localhost:8080/",
     "height": 34.0
    },
    "colab_type": "code",
    "executionInfo": {
     "elapsed": 1028.0,
     "status": "ok",
     "timestamp": 1.547819972545E12,
     "user": {
      "displayName": "Yash Mehta",
      "photoUrl": "https://lh5.googleusercontent.com/-Co0YSLq7WUQ/AAAAAAAAAAI/AAAAAAAAL14/de_Tazr353o/s64/photo.jpg",
      "userId": "01363125706256879103"
     },
     "user_tz": 0.0
    },
    "id": "HmTgwQFwmLK-",
    "outputId": "838b6d62-12ed-4f5d-92ad-8eadd3f462ef",
    "pycharm": {
     "is_executing": false
    }
   },
   "outputs": [],
   "source": [
    "x_train = np.reshape(x_train,[n_train,784])\n",
    "x_test = np.reshape(x_test,[n_test, 784])"
   ]
  },
  {
   "cell_type": "code",
   "execution_count": 10,
   "outputs": [],
   "source": [
    "sigma=0.001\n",
    "batch_size=1000"
   ],
   "metadata": {
    "collapsed": false,
    "pycharm": {
     "name": "#%%\n",
     "is_executing": false
    }
   }
  },
  {
   "cell_type": "code",
   "execution_count": 39,
   "metadata": {
    "pycharm": {
     "is_executing": false
    }
   },
   "outputs": [],
   "source": [
    "def build_graph(n_hl1, ii, update_rule):\n",
    "    g=tf.Graph()\n",
    "    with g.as_default():        \n",
    "        init=tf.global_variables_initializer()\n",
    "        \n",
    "        x = tf.placeholder(dtype=tf.float32, shape=[None, 784], name='x')\n",
    "        y = tf.placeholder(dtype=tf.float32, shape=[None,10], name='y')\n",
    "        \n",
    "        xavier = tf.contrib.layers.xavier_initializer(seed=0)\n",
    "\n",
    "        w1 = tf.Variable(xavier(shape = ([n_hl1,784])))\n",
    "        b1 = tf.Variable(xavier(shape = ([n_hl1])))\n",
    "\n",
    "        w2 = tf.Variable(xavier([10,n_hl1]), dtype=tf.float32)\n",
    "        b2 = tf.Variable(xavier([10]), dtype=tf.float32)\n",
    "        \n",
    "        lr = tf.Variable(xavier([1] , dtype=tf.float32), name='lr')\n",
    "        \n",
    "        h1 = tf.matmul(x, tf.transpose(w1))\n",
    "        x1 = tf.nn.relu(tf.add(h1,b1))\n",
    "        h2 =  tf.matmul(x1, tf.transpose(w2))\n",
    "        pred = tf.nn.softmax(tf.add(h2, b2))\n",
    "\n",
    "        error=tf.reduce_mean(np.square(pred-y),1)\n",
    "        \n",
    "        if(update_rule=='ip' or update_rule=='np'):\n",
    "            if(update_rule=='ip'):\n",
    "                s_in = tf.random_normal(shape = [batch_size,784], mean=0, stddev=sigma, dtype=tf.float32, name='s_in')\n",
    "                s_1 = tf.zeros([1], dtype=tf.float32, name='s_1')\n",
    "                s_2 = tf.zeros([1], dtype=tf.float32, name='s_2')\n",
    "            else:\n",
    "                s_in = tf.zeros([1], dtype=tf.float32, name='s_in')\n",
    "                s_1 = tf.random_normal(shape = [batch_size,n_hl1], mean=0, stddev=sigma, dtype=tf.float32, name='s_1')\n",
    "                s_2 = tf.random_normal(shape = [batch_size,10], mean=0, stddev=sigma, dtype=tf.float32, name='s_2')\n",
    "                \n",
    "            h1_star = tf.matmul(tf.add(x,s_in), tf.transpose(w1))\n",
    "            x1_star = tf.nn.relu(tf.add(tf.add(h1_star, b1), s_1))\n",
    "            h2_star = tf.matmul(x1_star, tf.transpose(w2))\n",
    "            pred_star = tf.nn.softmax(tf.add(tf.add(h2_star, b2), s_2))\n",
    "\n",
    "            error_star=tf.reduce_mean(np.square(pred_star-y),1)\n",
    "            var = sigma ** 2\n",
    "            k = -lr * (error_star - error) / var\n",
    "        \n",
    "            if(update_rule=='ip'):\n",
    "                del_h1=h1_star-h1\n",
    "                del_h2=h2_star-h2\n",
    "    \n",
    "            elif(update_rule=='np'):\n",
    "                del_h1=s_1\n",
    "                del_h2=s_2\n",
    "            \n",
    "            delta_w1=tf.einsum('ki,kj->kij', del_h1, x)\n",
    "            delta_w2=tf.einsum('ki,kj->kij', del_h2, h1)\n",
    "                \n",
    "            delta_w1=tf.einsum('kij,k->kij',delta_w1,k)\n",
    "            delta_w2=tf.einsum('kij,k->kij',delta_w2,k)\n",
    "            delta_b1=tf.einsum('ki,k->ki',del_h1,k)\n",
    "            delta_b2=tf.einsum('ki,k->ki',del_h2,k)\n",
    "    \n",
    "            delta_w1=tf.reduce_mean(delta_w1,0)\n",
    "            delta_w2=tf.reduce_mean(delta_w2,0)\n",
    "            delta_b1=tf.reduce_mean(delta_b1,0)\n",
    "            delta_b2=tf.reduce_mean(delta_b2,0)\n",
    "            \n",
    "            norm_delta_w2=tf.linalg.norm(delta_w2)\n",
    "            tf.identity(norm_delta_w2, 'norm_delta_w2')\n",
    "            \n",
    "            update_w1=tf.assign(w1, tf.add(w1,delta_w1), name='update_w1')\n",
    "            update_w2=tf.assign(w2, tf.add(w2,delta_w2), name='update_w2')\n",
    "            update_b1=tf.assign(b1, tf.add(b1,delta_b1), name='update_b1')\n",
    "            update_b2=tf.assign(b2, tf.add(b2,delta_b2), name='update_b2')\n",
    "        \n",
    "        change_lr=tf.assign(lr, tf.reshape(learning_rates[ii], [1]), name='change_lr')\n",
    "        norm_w2=tf.linalg.norm(w2)\n",
    "        tf.identity(norm_w2,'norm_w2')\n",
    "        \n",
    "        optimizer=tf.train.GradientDescentOptimizer(learning_rate=lr[0], name='optimizer').minimize(error)\n",
    "\n",
    "        is_correct = tf.equal(tf.argmax(pred,1), tf.argmax(y,1))\n",
    "        accuracy = 100*tf.reduce_mean(tf.cast(is_correct, tf.float32))\n",
    "        tf.identity(accuracy, 'accuracy')\n",
    "    \n",
    "    return g"
   ]
  },
  {
   "cell_type": "code",
   "execution_count": 23,
   "outputs": [],
   "source": [
    "def find_acc(which_acc):\n",
    "    acc=[]\n",
    "    if(which_acc=='test'):\n",
    "        acc.append(sess.run('accuracy:0', feed_dict={'x:0':x_test, 'y:0':y_test}))\n",
    "        \n",
    "    elif(which_acc=='train'):\n",
    "        n=int(n_train/n_test)\n",
    "        for i in range(n):\n",
    "            acc.append(sess.run('accuracy:0', feed_dict={'x:0':x_train[i*n_test:(i+1)*n_test], 'y:0':y_train[i*n_test:(i+1)*n_test]}))\n",
    "    else:\n",
    "        print('wrong accuracy requested!!')\n",
    "    return np.mean(acc)"
   ],
   "metadata": {
    "collapsed": false,
    "pycharm": {
     "name": "#%%\n",
     "is_executing": false
    }
   }
  },
  {
   "cell_type": "code",
   "execution_count": 19,
   "metadata": {
    "pycharm": {
     "is_executing": false
    }
   },
   "outputs": [],
   "source": [
    "def print_acc():    \n",
    "    train_acc.append(find_acc('train'))\n",
    "    test_acc.append(find_acc('test'))\n",
    "    print('epoch : ', i+1, '  test_acc : ', test_acc[-1])\n",
    "    sec=int(time.time()-startii)\n",
    "    print(int(sec/60),'m ', int(sec%60),'s')\n",
    "    \n",
    "    return test_acc[-1] "
   ]
  },
  {
   "cell_type": "code",
   "execution_count": 31,
   "outputs": [],
   "source": [
    "def train_network():\n",
    "    for j in range(int(n_train/batch_size)):\n",
    "        ind = np.random.randint(0, n_train, size=(batch_size))\n",
    "        \n",
    "        if(update_rule=='sgd'):\n",
    "            ops=['optimizer']\n",
    "            \n",
    "        elif(update_rule=='ip' or 'np'):\n",
    "            updates= ['update_w1:0', 'update_w2:0', 'update_b1:0', 'update_b2:0']\n",
    "            squiggles= ['s_in:0', 's_1:0', 's_2:0']\n",
    "            ops=[squiggles, updates]\n",
    "\n",
    "        else:\n",
    "            ops=[]\n",
    "\n",
    "        sess.run(ops, feed_dict = {'x:0':x_train[ind], 'y:0':y_train[ind]})\n",
    "    \n",
    "    return"
   ],
   "metadata": {
    "collapsed": false,
    "pycharm": {
     "name": "#%%\n",
     "is_executing": false
    }
   }
  },
  {
   "cell_type": "code",
   "execution_count": 40,
   "outputs": [],
   "source": [
    "def write_in_file():\n",
    "    row=test_acc\n",
    "    with open('Desktop/code/ip/test_acc.csv', 'a') as csvFile:\n",
    "        writer = csv.writer(csvFile)\n",
    "        writer.writerow(row)\n",
    "\n",
    "    row=train_acc\n",
    "    with open('Desktop/code/ip/train_acc.csv', 'a') as csvFile:\n",
    "        writer = csv.writer(csvFile)\n",
    "        writer.writerow(row)\n",
    "\n",
    "    row=w2_norm\n",
    "    with open('Desktop/code/ip/norm_w1.csv', 'a') as csvFile:\n",
    "        writer = csv.writer(csvFile)\n",
    "        writer.writerow(row)\n",
    "\n",
    "    row=delta_w2_norm\n",
    "    with open('Desktop/code/ip/delta_norm_w1.csv', 'a') as csvFile:\n",
    "        writer = csv.writer(csvFile)\n",
    "        writer.writerow(row)\n",
    "    \n",
    "    csvFile.close()\n",
    "    return"
   ],
   "metadata": {
    "collapsed": false,
    "pycharm": {
     "name": "#%%\n",
     "is_executing": false
    }
   }
  },
  {
   "cell_type": "code",
   "execution_count": 43,
   "outputs": [],
   "source": [
    "n_epochs=2000\n",
    "interval=5\n",
    "\n",
    "hl_sizes = [100, 300,1000, 3000]\n",
    "learning_rates = np.arange(0.04,0.01,-0.005).astype(np.float32)\n",
    "test_acc=[]\n",
    "train_acc=[]\n",
    "delta_w2_norm=[]\n",
    "update_rule='ip'"
   ],
   "metadata": {
    "collapsed": false,
    "pycharm": {
     "name": "#%%\n",
     "is_executing": false
    }
   }
  },
  {
   "cell_type": "code",
   "execution_count": 44,
   "outputs": [
    {
     "name": "stdout",
     "text": [
      "TRAINING :  100  hidden units \nlearning rate :  [0.04] \n\n",
      "epoch :  1   test_acc :  4.69\n0 m  0 s\n",
      "epoch :  6   test_acc :  41.61\n0 m  4 s\n",
      "epoch :  11   test_acc :  58.48\n0 m  8 s\n",
      "epoch :  16   test_acc :  68.72\n0 m  12 s\n",
      "epoch :  21   test_acc :  75.28\n0 m  16 s\n",
      "epoch :  26   test_acc :  83.91\n0 m  20 s\n",
      "epoch :  31   test_acc :  85.77\n0 m  24 s\n",
      "epoch :  36   test_acc :  87.11\n0 m  28 s\n",
      "epoch :  41   test_acc :  87.98\n0 m  32 s\n"
     ],
     "output_type": "stream"
    },
    {
     "traceback": [
      "\u001b[0;31m---------------------------------------------------------------------------\u001b[0m",
      "\u001b[0;31mKeyboardInterrupt\u001b[0m                         Traceback (most recent call last)",
      "\u001b[0;32m<ipython-input-44-4feec068863f>\u001b[0m in \u001b[0;36m<module>\u001b[0;34m()\u001b[0m\n\u001b[1;32m     15\u001b[0m                     \u001b[0;32mbreak\u001b[0m\u001b[0;34m\u001b[0m\u001b[0m\n\u001b[1;32m     16\u001b[0m \u001b[0;34m\u001b[0m\u001b[0m\n\u001b[0;32m---> 17\u001b[0;31m             \u001b[0mtrain_network\u001b[0m\u001b[0;34m(\u001b[0m\u001b[0;34m)\u001b[0m\u001b[0;34m\u001b[0m\u001b[0m\n\u001b[0m\u001b[1;32m     18\u001b[0m \u001b[0;34m\u001b[0m\u001b[0m\n\u001b[1;32m     19\u001b[0m         \u001b[0msess\u001b[0m\u001b[0;34m.\u001b[0m\u001b[0mclose\u001b[0m\u001b[0;34m(\u001b[0m\u001b[0;34m)\u001b[0m\u001b[0;34m\u001b[0m\u001b[0m\n",
      "\u001b[0;32m<ipython-input-31-f7f5cf56db6a>\u001b[0m in \u001b[0;36mtrain_network\u001b[0;34m()\u001b[0m\n\u001b[1;32m     14\u001b[0m             \u001b[0mops\u001b[0m\u001b[0;34m=\u001b[0m\u001b[0;34m[\u001b[0m\u001b[0;34m]\u001b[0m\u001b[0;34m\u001b[0m\u001b[0m\n\u001b[1;32m     15\u001b[0m \u001b[0;34m\u001b[0m\u001b[0m\n\u001b[0;32m---> 16\u001b[0;31m         \u001b[0msess\u001b[0m\u001b[0;34m.\u001b[0m\u001b[0mrun\u001b[0m\u001b[0;34m(\u001b[0m\u001b[0mops\u001b[0m\u001b[0;34m,\u001b[0m \u001b[0mfeed_dict\u001b[0m \u001b[0;34m=\u001b[0m \u001b[0;34m{\u001b[0m\u001b[0;34m'x:0'\u001b[0m\u001b[0;34m:\u001b[0m\u001b[0mx_train\u001b[0m\u001b[0;34m[\u001b[0m\u001b[0mind\u001b[0m\u001b[0;34m]\u001b[0m\u001b[0;34m,\u001b[0m \u001b[0;34m'y:0'\u001b[0m\u001b[0;34m:\u001b[0m\u001b[0my_train\u001b[0m\u001b[0;34m[\u001b[0m\u001b[0mind\u001b[0m\u001b[0;34m]\u001b[0m\u001b[0;34m}\u001b[0m\u001b[0;34m)\u001b[0m\u001b[0;34m\u001b[0m\u001b[0m\n\u001b[0m\u001b[1;32m     17\u001b[0m \u001b[0;34m\u001b[0m\u001b[0m\n\u001b[1;32m     18\u001b[0m     \u001b[0;32mreturn\u001b[0m\u001b[0;34m\u001b[0m\u001b[0m\n",
      "\u001b[0;32m~/anaconda3/envs/Tensorflow/lib/python3.5/site-packages/tensorflow/python/client/session.py\u001b[0m in \u001b[0;36mrun\u001b[0;34m(self, fetches, feed_dict, options, run_metadata)\u001b[0m\n\u001b[1;32m    875\u001b[0m     \u001b[0;32mtry\u001b[0m\u001b[0;34m:\u001b[0m\u001b[0;34m\u001b[0m\u001b[0m\n\u001b[1;32m    876\u001b[0m       result = self._run(None, fetches, feed_dict, options_ptr,\n\u001b[0;32m--> 877\u001b[0;31m                          run_metadata_ptr)\n\u001b[0m\u001b[1;32m    878\u001b[0m       \u001b[0;32mif\u001b[0m \u001b[0mrun_metadata\u001b[0m\u001b[0;34m:\u001b[0m\u001b[0;34m\u001b[0m\u001b[0m\n\u001b[1;32m    879\u001b[0m         \u001b[0mproto_data\u001b[0m \u001b[0;34m=\u001b[0m \u001b[0mtf_session\u001b[0m\u001b[0;34m.\u001b[0m\u001b[0mTF_GetBuffer\u001b[0m\u001b[0;34m(\u001b[0m\u001b[0mrun_metadata_ptr\u001b[0m\u001b[0;34m)\u001b[0m\u001b[0;34m\u001b[0m\u001b[0m\n",
      "\u001b[0;32m~/anaconda3/envs/Tensorflow/lib/python3.5/site-packages/tensorflow/python/client/session.py\u001b[0m in \u001b[0;36m_run\u001b[0;34m(self, handle, fetches, feed_dict, options, run_metadata)\u001b[0m\n\u001b[1;32m   1098\u001b[0m     \u001b[0;32mif\u001b[0m \u001b[0mfinal_fetches\u001b[0m \u001b[0;32mor\u001b[0m \u001b[0mfinal_targets\u001b[0m \u001b[0;32mor\u001b[0m \u001b[0;34m(\u001b[0m\u001b[0mhandle\u001b[0m \u001b[0;32mand\u001b[0m \u001b[0mfeed_dict_tensor\u001b[0m\u001b[0;34m)\u001b[0m\u001b[0;34m:\u001b[0m\u001b[0;34m\u001b[0m\u001b[0m\n\u001b[1;32m   1099\u001b[0m       results = self._do_run(handle, final_targets, final_fetches,\n\u001b[0;32m-> 1100\u001b[0;31m                              feed_dict_tensor, options, run_metadata)\n\u001b[0m\u001b[1;32m   1101\u001b[0m     \u001b[0;32melse\u001b[0m\u001b[0;34m:\u001b[0m\u001b[0;34m\u001b[0m\u001b[0m\n\u001b[1;32m   1102\u001b[0m       \u001b[0mresults\u001b[0m \u001b[0;34m=\u001b[0m \u001b[0;34m[\u001b[0m\u001b[0;34m]\u001b[0m\u001b[0;34m\u001b[0m\u001b[0m\n",
      "\u001b[0;32m~/anaconda3/envs/Tensorflow/lib/python3.5/site-packages/tensorflow/python/client/session.py\u001b[0m in \u001b[0;36m_do_run\u001b[0;34m(self, handle, target_list, fetch_list, feed_dict, options, run_metadata)\u001b[0m\n\u001b[1;32m   1270\u001b[0m     \u001b[0;32mif\u001b[0m \u001b[0mhandle\u001b[0m \u001b[0;32mis\u001b[0m \u001b[0;32mNone\u001b[0m\u001b[0;34m:\u001b[0m\u001b[0;34m\u001b[0m\u001b[0m\n\u001b[1;32m   1271\u001b[0m       return self._do_call(_run_fn, feeds, fetches, targets, options,\n\u001b[0;32m-> 1272\u001b[0;31m                            run_metadata)\n\u001b[0m\u001b[1;32m   1273\u001b[0m     \u001b[0;32melse\u001b[0m\u001b[0;34m:\u001b[0m\u001b[0;34m\u001b[0m\u001b[0m\n\u001b[1;32m   1274\u001b[0m       \u001b[0;32mreturn\u001b[0m \u001b[0mself\u001b[0m\u001b[0;34m.\u001b[0m\u001b[0m_do_call\u001b[0m\u001b[0;34m(\u001b[0m\u001b[0m_prun_fn\u001b[0m\u001b[0;34m,\u001b[0m \u001b[0mhandle\u001b[0m\u001b[0;34m,\u001b[0m \u001b[0mfeeds\u001b[0m\u001b[0;34m,\u001b[0m \u001b[0mfetches\u001b[0m\u001b[0;34m)\u001b[0m\u001b[0;34m\u001b[0m\u001b[0m\n",
      "\u001b[0;32m~/anaconda3/envs/Tensorflow/lib/python3.5/site-packages/tensorflow/python/client/session.py\u001b[0m in \u001b[0;36m_do_call\u001b[0;34m(self, fn, *args)\u001b[0m\n\u001b[1;32m   1276\u001b[0m   \u001b[0;32mdef\u001b[0m \u001b[0m_do_call\u001b[0m\u001b[0;34m(\u001b[0m\u001b[0mself\u001b[0m\u001b[0;34m,\u001b[0m \u001b[0mfn\u001b[0m\u001b[0;34m,\u001b[0m \u001b[0;34m*\u001b[0m\u001b[0margs\u001b[0m\u001b[0;34m)\u001b[0m\u001b[0;34m:\u001b[0m\u001b[0;34m\u001b[0m\u001b[0m\n\u001b[1;32m   1277\u001b[0m     \u001b[0;32mtry\u001b[0m\u001b[0;34m:\u001b[0m\u001b[0;34m\u001b[0m\u001b[0m\n\u001b[0;32m-> 1278\u001b[0;31m       \u001b[0;32mreturn\u001b[0m \u001b[0mfn\u001b[0m\u001b[0;34m(\u001b[0m\u001b[0;34m*\u001b[0m\u001b[0margs\u001b[0m\u001b[0;34m)\u001b[0m\u001b[0;34m\u001b[0m\u001b[0m\n\u001b[0m\u001b[1;32m   1279\u001b[0m     \u001b[0;32mexcept\u001b[0m \u001b[0merrors\u001b[0m\u001b[0;34m.\u001b[0m\u001b[0mOpError\u001b[0m \u001b[0;32mas\u001b[0m \u001b[0me\u001b[0m\u001b[0;34m:\u001b[0m\u001b[0;34m\u001b[0m\u001b[0m\n\u001b[1;32m   1280\u001b[0m       \u001b[0mmessage\u001b[0m \u001b[0;34m=\u001b[0m \u001b[0mcompat\u001b[0m\u001b[0;34m.\u001b[0m\u001b[0mas_text\u001b[0m\u001b[0;34m(\u001b[0m\u001b[0me\u001b[0m\u001b[0;34m.\u001b[0m\u001b[0mmessage\u001b[0m\u001b[0;34m)\u001b[0m\u001b[0;34m\u001b[0m\u001b[0m\n",
      "\u001b[0;32m~/anaconda3/envs/Tensorflow/lib/python3.5/site-packages/tensorflow/python/client/session.py\u001b[0m in \u001b[0;36m_run_fn\u001b[0;34m(feed_dict, fetch_list, target_list, options, run_metadata)\u001b[0m\n\u001b[1;32m   1261\u001b[0m       \u001b[0mself\u001b[0m\u001b[0;34m.\u001b[0m\u001b[0m_extend_graph\u001b[0m\u001b[0;34m(\u001b[0m\u001b[0;34m)\u001b[0m\u001b[0;34m\u001b[0m\u001b[0m\n\u001b[1;32m   1262\u001b[0m       return self._call_tf_sessionrun(\n\u001b[0;32m-> 1263\u001b[0;31m           options, feed_dict, fetch_list, target_list, run_metadata)\n\u001b[0m\u001b[1;32m   1264\u001b[0m \u001b[0;34m\u001b[0m\u001b[0m\n\u001b[1;32m   1265\u001b[0m     \u001b[0;32mdef\u001b[0m \u001b[0m_prun_fn\u001b[0m\u001b[0;34m(\u001b[0m\u001b[0mhandle\u001b[0m\u001b[0;34m,\u001b[0m \u001b[0mfeed_dict\u001b[0m\u001b[0;34m,\u001b[0m \u001b[0mfetch_list\u001b[0m\u001b[0;34m)\u001b[0m\u001b[0;34m:\u001b[0m\u001b[0;34m\u001b[0m\u001b[0m\n",
      "\u001b[0;32m~/anaconda3/envs/Tensorflow/lib/python3.5/site-packages/tensorflow/python/client/session.py\u001b[0m in \u001b[0;36m_call_tf_sessionrun\u001b[0;34m(self, options, feed_dict, fetch_list, target_list, run_metadata)\u001b[0m\n\u001b[1;32m   1348\u001b[0m     return tf_session.TF_SessionRun_wrapper(\n\u001b[1;32m   1349\u001b[0m         \u001b[0mself\u001b[0m\u001b[0;34m.\u001b[0m\u001b[0m_session\u001b[0m\u001b[0;34m,\u001b[0m \u001b[0moptions\u001b[0m\u001b[0;34m,\u001b[0m \u001b[0mfeed_dict\u001b[0m\u001b[0;34m,\u001b[0m \u001b[0mfetch_list\u001b[0m\u001b[0;34m,\u001b[0m \u001b[0mtarget_list\u001b[0m\u001b[0;34m,\u001b[0m\u001b[0;34m\u001b[0m\u001b[0m\n\u001b[0;32m-> 1350\u001b[0;31m         run_metadata)\n\u001b[0m\u001b[1;32m   1351\u001b[0m \u001b[0;34m\u001b[0m\u001b[0m\n\u001b[1;32m   1352\u001b[0m   \u001b[0;32mdef\u001b[0m \u001b[0m_call_tf_sessionprun\u001b[0m\u001b[0;34m(\u001b[0m\u001b[0mself\u001b[0m\u001b[0;34m,\u001b[0m \u001b[0mhandle\u001b[0m\u001b[0;34m,\u001b[0m \u001b[0mfeed_dict\u001b[0m\u001b[0;34m,\u001b[0m \u001b[0mfetch_list\u001b[0m\u001b[0;34m)\u001b[0m\u001b[0;34m:\u001b[0m\u001b[0;34m\u001b[0m\u001b[0m\n",
      "\u001b[0;31mKeyboardInterrupt\u001b[0m: "
     ],
     "evalue": "",
     "ename": "KeyboardInterrupt",
     "output_type": "error"
    }
   ],
   "source": [
    "start=time.time()\n",
    "\n",
    "for ii in range(len(hl_sizes)):\n",
    "    startii=time.time()\n",
    "    test_acc=[]\n",
    "    w2_norm=[]\n",
    "    graph=build_graph(hl_sizes[ii], ii, update_rule)\n",
    "    with tf.Session(graph=graph) as sess:\n",
    "        sess.run(tf.global_variables_initializer())\n",
    "        sess.run('change_lr:0')\n",
    "        print('TRAINING : ', hl_sizes[ii],' hidden units', '\\nlearning rate : ', sess.run('lr:0'), '\\n')\n",
    "        for i in range(n_epochs):\n",
    "            if i%interval==0:\n",
    "                if(print_acc()>98):\n",
    "                    break\n",
    "                    \n",
    "            train_network()\n",
    "                \n",
    "        sess.close()\n",
    "        write_in_file()\n",
    "\n",
    "sec=int(time.time()-start)\n",
    "print('TOTAL TIME : ', int(sec/60),'m ', int(sec%60),'s')"
   ],
   "metadata": {
    "collapsed": false,
    "pycharm": {
     "name": "#%%\n",
     "is_executing": false
    }
   }
  },
  {
   "cell_type": "code",
   "execution_count": null,
   "outputs": [],
   "source": [
    "fig, ax1 = plt.subplots(figsize=(8, 5.5))\n",
    "xx=np.arange(0,n_epochs, interval)\n",
    "ax1.set_xlabel('epochs')\n",
    "ax1.set_ylabel('accuracy')\n",
    "ax1.plot(xx, test_acc, color='tab:red', label='test accuracy')\n",
    "ax1.plot(xx, train_acc, color='tab:blue', label='training accuracy')\n",
    "ax1.legend()\n",
    "\n",
    "axes = plt.gca()\n",
    "\n",
    "ax1.set_facecolor(\"#ffffb3\")\n",
    "\n",
    "ax1.annotate(str(round(test_acc[-1],1)),xy=(xx[-1]-0.5,test_acc[-1]+0.7), color='tab:red')\n",
    "ax1.annotate(str(round(train_acc[-1],1)),xy=(xx[-1]-0.5,train_acc[-1]-2.2), color='tab:blue')\n",
    "\n",
    "plt.grid(True, color=\"#93a1a1\", alpha=0.3)\n",
    "plt.show()\n",
    "plt.savefig('plot1.svg', dpi=500)"
   ],
   "metadata": {
    "collapsed": false,
    "pycharm": {
     "name": "#%%            \n"
    }
   }
  }
 ],
 "metadata": {
  "accelerator": "GPU",
  "colab": {
   "name": "np_mnist_linear_regression.ipynb",
   "provenance": [],
   "version": "0.3.2"
  },
  "kernelspec": {
   "display_name": "Python 3",
   "language": "python",
   "name": "python3"
  },
  "language_info": {
   "codemirror_mode": {
    "name": "ipython",
    "version": 3
   },
   "file_extension": ".py",
   "mimetype": "text/x-python",
   "name": "python",
   "nbconvert_exporter": "python",
   "pygments_lexer": "ipython3",
   "version": "3.5.5"
  },
  "pycharm": {
   "stem_cell": {
    "cell_type": "raw",
    "source": [],
    "metadata": {
     "collapsed": false
    }
   }
  }
 },
 "nbformat": 4,
 "nbformat_minor": 1
}