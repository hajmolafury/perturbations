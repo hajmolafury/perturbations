{
 "cells": [
  {
   "cell_type": "code",
   "execution_count": 1,
   "metadata": {
    "colab": {},
    "colab_type": "code",
    "id": "xPJX-M74ioow"
   },
   "outputs": [
    {
     "name": "stderr",
     "output_type": "stream",
     "text": [
      "/nfs/nhome/live/yashm/anaconda3/envs/Tensorflow/lib/python3.5/site-packages/h5py/__init__.py:36: FutureWarning: Conversion of the second argument of issubdtype from `float` to `np.floating` is deprecated. In future, it will be treated as `np.float64 == np.dtype(float).type`.\n",
      "  from ._conv import register_converters as _register_converters\n"
     ]
    }
   ],
   "source": [
    "import tensorflow as tf\n",
    "import numpy as np\n",
    "import time\n",
    "\n",
    "np.set_printoptions(precision=4, suppress=True)"
   ]
  },
  {
   "cell_type": "code",
   "execution_count": 2,
   "metadata": {
    "colab": {},
    "colab_type": "code",
    "id": "Yh0rjUSMjJAv"
   },
   "outputs": [],
   "source": [
    "seed=0\n",
    "tf.set_random_seed(seed)\n",
    "\n",
    "mnist = tf.keras.datasets.mnist\n",
    "(x_train_data, y_train_cold),(x_test_data,y_test_cold) = mnist.load_data()\n",
    "x_train_data, x_test_data = x_train_data / 255.0, x_test_data / 255.0"
   ]
  },
  {
   "cell_type": "code",
   "execution_count": 3,
   "metadata": {
    "colab": {},
    "colab_type": "code",
    "id": "ESirBBgVkVha"
   },
   "outputs": [],
   "source": [
    "with tf.Session() as sess:\n",
    "    y_train = sess.run(tf.one_hot(y_train_cold,10))\n",
    "    y_test =  sess.run(tf.one_hot(y_test_cold,10))"
   ]
  },
  {
   "cell_type": "code",
   "execution_count": 4,
   "metadata": {
    "colab": {},
    "colab_type": "code",
    "id": "_QdQWRR7vfB_"
   },
   "outputs": [],
   "source": [
    "x_train=[]\n",
    "x_test=[]\n",
    "\n",
    "n_train = len(x_train_data)\n",
    "n_test = len(x_test_data)\n",
    "\n",
    "for i in range(len(x_train_data)):\n",
    "    x_train.append(np.ndarray.flatten(x_train_data[i]))\n",
    "    \n",
    "for i in range(len(x_test_data)):\n",
    "    x_test.append(np.ndarray.flatten(x_test_data[i]))"
   ]
  },
  {
   "cell_type": "code",
   "execution_count": 5,
   "metadata": {
    "colab": {
     "base_uri": "https://localhost:8080/",
     "height": 34
    },
    "colab_type": "code",
    "executionInfo": {
     "elapsed": 1028,
     "status": "ok",
     "timestamp": 1547819972545,
     "user": {
      "displayName": "Yash Mehta",
      "photoUrl": "https://lh5.googleusercontent.com/-Co0YSLq7WUQ/AAAAAAAAAAI/AAAAAAAAL14/de_Tazr353o/s64/photo.jpg",
      "userId": "01363125706256879103"
     },
     "user_tz": 0
    },
    "id": "HmTgwQFwmLK-",
    "outputId": "838b6d62-12ed-4f5d-92ad-8eadd3f462ef"
   },
   "outputs": [],
   "source": [
    "x_train = np.reshape(x_train,[n_train,784])\n",
    "x_test = np.reshape(x_test,[n_test, 784])"
   ]
  },
  {
   "cell_type": "code",
   "execution_count": 6,
   "metadata": {},
   "outputs": [
    {
     "name": "stdout",
     "output_type": "stream",
     "text": [
      "[5923. 6742. 5958. 6131. 5842. 5421. 5918. 6265. 5851. 5949.]\n"
     ]
    }
   ],
   "source": [
    "print(np.sum(y_train,0))"
   ]
  },
  {
   "cell_type": "code",
   "execution_count": 19,
   "metadata": {},
   "outputs": [],
   "source": [
    "learning_rate=0.0005\n",
    "sigma=0.0001\n",
    "batch_size=400"
   ]
  },
  {
   "cell_type": "code",
   "execution_count": 20,
   "metadata": {},
   "outputs": [],
   "source": [
    "x = tf.placeholder(dtype=tf.float32, shape=[None, 784])\n",
    "y = tf.placeholder(dtype=tf.float32, shape=[None,10])"
   ]
  },
  {
   "cell_type": "code",
   "execution_count": 21,
   "metadata": {
    "colab": {
     "base_uri": "https://localhost:8080/",
     "height": 72
    },
    "colab_type": "code",
    "executionInfo": {
     "elapsed": 80094,
     "status": "ok",
     "timestamp": 1547824029099,
     "user": {
      "displayName": "Yash Mehta",
      "photoUrl": "https://lh5.googleusercontent.com/-Co0YSLq7WUQ/AAAAAAAAAAI/AAAAAAAAL14/de_Tazr353o/s64/photo.jpg",
      "userId": "01363125706256879103"
     },
     "user_tz": 0
    },
    "id": "yxtbqVWcjPLf",
    "outputId": "b27a6f64-3a3b-4c8a-e476-ad0fd211c0a5"
   },
   "outputs": [],
   "source": [
    "n_hl1 = 200\n",
    "xavier = tf.contrib.layers.xavier_initializer(seed=seed)\n",
    "\n",
    "\n",
    "w1 = tf.Variable(xavier(shape = ([n_hl1,784])))\n",
    "b1 = tf.Variable(xavier(shape = ([n_hl1])))\n",
    "\n",
    "w2 = tf.Variable(xavier(shape = ([10,n_hl1])))\n",
    "b2 = tf.Variable(xavier(shape = ([10])))\n",
    "\n",
    "w1_star=tf.Variable(tf.random_uniform(shape=[batch_size, n_hl1, 784], minval=1, maxval=1))\n",
    "w2_star=tf.Variable(tf.random_uniform(shape=[batch_size, 10, n_hl1], minval=1, maxval=1))"
   ]
  },
  {
   "cell_type": "code",
   "execution_count": 22,
   "metadata": {},
   "outputs": [],
   "source": [
    "with tf.name_scope('noise'):\n",
    "    squiggle1 = tf.random_normal(shape = [batch_size,n_hl1,784], mean=0, stddev=sigma, dtype=tf.float32)\n",
    "    squiggle2 = tf.random_normal(shape = [batch_size,10,n_hl1], mean=0, stddev=sigma, dtype=tf.float32)"
   ]
  },
  {
   "cell_type": "code",
   "execution_count": 23,
   "metadata": {},
   "outputs": [],
   "source": [
    "with tf.name_scope('batch-prediction'):\n",
    "    hl1_out = tf.nn.relu(tf.add(tf.matmul(x, tf.transpose(w1)), b1))\n",
    "    pred = tf.nn.softmax(tf.add(tf.matmul(hl1_out, tf.transpose(w2)), b2))\n",
    "    \n",
    "    hl1_out_star=tf.nn.relu(tf.add(tf.einsum('ki,kji->kj',x,tf.add(w1_star, squiggle1)),b1))\n",
    "    pred_star=tf.nn.softmax(tf.add(tf.einsum('ki,kji->kj', hl1_out_star,tf.add(w2_star, squiggle2)), b2))"
   ]
  },
  {
   "cell_type": "code",
   "execution_count": 24,
   "metadata": {},
   "outputs": [],
   "source": [
    "error=tf.reduce_mean(np.square(pred-y),1)\n",
    "error_star=tf.reduce_mean(np.square(pred_star-y),1)\n",
    "\n",
    "var = sigma ** 2\n",
    "k = -learning_rate * (error_star - error) / var"
   ]
  },
  {
   "cell_type": "code",
   "execution_count": 25,
   "metadata": {},
   "outputs": [],
   "source": [
    "with tf.name_scope('delta'):\n",
    "    delta_w1=tf.einsum('kij,k->kij',squiggle1,k)\n",
    "    delta_w2=tf.einsum('kij,k->kij',squiggle2,k)\n",
    "    \n",
    "    delta_w1=tf.reduce_mean(delta_w1,0)\n",
    "    delta_w2=tf.reduce_mean(delta_w2,0)\n",
    "    \n",
    "    \n",
    "with tf.name_scope('update'):\n",
    "    update_w1=tf.assign(w1, tf.add(w1,delta_w1))\n",
    "    update_w2=tf.assign(w2, tf.add(w2,delta_w2))\n",
    "    \n",
    "    update_w1_star=tf.add(w1_star, delta_w1)\n",
    "    update_w2_star=tf.add(w2_star, delta_w2)"
   ]
  },
  {
   "cell_type": "code",
   "execution_count": 26,
   "metadata": {},
   "outputs": [],
   "source": [
    "is_correct = tf.equal(tf.argmax(pred,1), tf.argmax(y,1))\n",
    "accuracy = 100*tf.reduce_mean(tf.cast(is_correct, tf.float32))"
   ]
  },
  {
   "cell_type": "code",
   "execution_count": 27,
   "metadata": {},
   "outputs": [],
   "source": [
    "sess = tf.Session()\n",
    "init = tf.global_variables_initializer()\n",
    "\n",
    "sess.run(init)"
   ]
  },
  {
   "cell_type": "code",
   "execution_count": 28,
   "metadata": {},
   "outputs": [],
   "source": [
    "w1_star=tf.einsum('kij, ij->kij', w1_star, w1)\n",
    "w2_star=tf.einsum('kij, ij->kij', w2_star, w2)"
   ]
  },
  {
   "cell_type": "code",
   "execution_count": 17,
   "metadata": {},
   "outputs": [],
   "source": [
    "# acc_summ = tf.summary.scalar('accuracy', accuracy)\n",
    "\n",
    "# summ_dir='/nfs/nhome/live/yashm/Desktop/weight perturbation'\n",
    "# test_writer=tf.summary.FileWriter(summ_dir+'/test',sess.graph)\n",
    "# train_writer=tf.summary.FileWriter(summ_dir+'/train',sess.graph)"
   ]
  },
  {
   "cell_type": "code",
   "execution_count": 29,
   "metadata": {},
   "outputs": [
    {
     "name": "stdout",
     "output_type": "stream",
     "text": [
      "epoch :  1 train_acc :  [9.506666]\n",
      "0 m  7 s\n",
      "epoch :  2 train_acc :  [16.398333]\n",
      "0 m  15 s\n",
      "epoch :  3 train_acc :  [12.943334]\n",
      "0 m  22 s\n",
      "epoch :  4 train_acc :  [10.5616665]\n",
      "0 m  30 s\n",
      "epoch :  5 train_acc :  [8.516667]\n",
      "0 m  38 s\n",
      "epoch :  6 train_acc :  [7.421666]\n",
      "0 m  45 s\n",
      "epoch :  7 train_acc :  [12.365]\n",
      "0 m  53 s\n",
      "epoch :  8 train_acc :  [13.655]\n",
      "1 m  0 s\n",
      "epoch :  9 train_acc :  [13.28]\n",
      "1 m  8 s\n",
      "epoch :  10 train_acc :  [13.781667]\n",
      "1 m  15 s\n",
      "epoch :  11 train_acc :  [8.665]\n",
      "1 m  23 s\n",
      "epoch :  12 train_acc :  [7.496667]\n",
      "1 m  31 s\n",
      "epoch :  13 train_acc :  [9.675]\n",
      "1 m  38 s\n",
      "epoch :  14 train_acc :  [9.506666]\n",
      "1 m  46 s\n",
      "epoch :  15 train_acc :  [10.49]\n",
      "1 m  54 s\n",
      "epoch :  16 train_acc :  [13.491667]\n",
      "2 m  1 s\n",
      "epoch :  17 train_acc :  [15.963334]\n",
      "2 m  9 s\n",
      "epoch :  18 train_acc :  [14.174999]\n",
      "2 m  16 s\n",
      "epoch :  19 train_acc :  [14.381666]\n",
      "2 m  24 s\n",
      "epoch :  20 train_acc :  [14.863333]\n",
      "2 m  31 s\n"
     ]
    }
   ],
   "source": [
    "start = time.time()\n",
    "n_epochs=20\n",
    "updates= [update_w1, update_w2, update_w1_star, update_w2_star]\n",
    "squiggles= [squiggle1, squiggle2]\n",
    "\n",
    "\n",
    "for i in range(n_epochs):\n",
    "    for j in range(0, n_train, batch_size):\n",
    "        sess.run([squiggles, updates], feed_dict = {x:x_train[j:j+batch_size], y:y_train[j:j+batch_size]})\n",
    "    \n",
    "    if i%1==0:\n",
    "#         _,test_summ=sess.run([accuracy, acc_summ],feed_dict={x:x_test,y:y_test})\n",
    "#         _,train_summ=sess.run([accuracy, acc_summ],feed_dict={x:x_train,y:y_train})\n",
    "#         test_writer.add_summary(test_summ, i)\n",
    "#         train_writer.add_summary(train_summ, i)\n",
    "        train_acc=sess.run([accuracy], feed_dict={x:x_train, y:y_train})\n",
    "        print('epoch : ', i+1, 'train_acc : ', train_acc)\n",
    "        sec=int(time.time()-start)\n",
    "        print(int(sec/60),'m ', int(sec%60),'s')\n",
    "# train_writer.flush()\n",
    "# test_writer.flush()"
   ]
  },
  {
   "cell_type": "code",
   "execution_count": null,
   "metadata": {},
   "outputs": [],
   "source": [
    " print('Test : ', sess.run([accuracy], feed_dict={x : x_test, y : y_test}),'\\t')"
   ]
  },
  {
   "cell_type": "code",
   "execution_count": null,
   "metadata": {},
   "outputs": [],
   "source": [
    "train_writer.close()\n",
    "test_writer.close()"
   ]
  }
 ],
 "metadata": {
  "accelerator": "GPU",
  "colab": {
   "name": "np_mnist_linear_regression.ipynb",
   "provenance": [],
   "version": "0.3.2"
  },
  "kernelspec": {
   "display_name": "Python 3",
   "language": "python",
   "name": "python3"
  },
  "language_info": {
   "codemirror_mode": {
    "name": "ipython",
    "version": 3
   },
   "file_extension": ".py",
   "mimetype": "text/x-python",
   "name": "python",
   "nbconvert_exporter": "python",
   "pygments_lexer": "ipython3",
   "version": "3.5.5"
  }
 },
 "nbformat": 4,
 "nbformat_minor": 1
}
